{
 "cells": [
  {
   "cell_type": "code",
   "execution_count": 1,
   "id": "8cbfe429",
   "metadata": {},
   "outputs": [],
   "source": [
    "import numpy as np\n",
    "import pandas as pd\n",
    "import matplotlib.pyplot as plt\n",
    "from sklearn.metrics import confusion_matrix, recall_score, precision_score, accuracy_score, f1_score, log_loss\n",
    "from sklearn.metrics import roc_auc_score, plot_roc_curve, average_precision_score"
   ]
  },
  {
   "cell_type": "code",
   "execution_count": 10,
   "id": "444c8066",
   "metadata": {},
   "outputs": [],
   "source": [
    "# Set parameters\n",
    "df = \"/data_lab_MT/Ines/Tanaka/BoneRegeneration/CNNC_cluster2_network/20230127_gene_pairs.txt\"\n",
    "pred = \"/data_lab_MT/Ines/Tanaka/BoneRegeneration/CNNC_cluster2_network/20230129_BL8-11_2label_FilteredGenes_model/end_y_predict.npy\"\n",
    "start = 0\n",
    "end = 44424"
   ]
  },
  {
   "cell_type": "code",
   "execution_count": 11,
   "id": "5e807d67",
   "metadata": {},
   "outputs": [
    {
     "data": {
      "text/plain": [
       "44424"
      ]
     },
     "execution_count": 11,
     "metadata": {},
     "output_type": "execute_result"
    }
   ],
   "source": [
    "# Load predicted probabilities of interaction\n",
    "pred = np.load(file = pred)\n",
    "\n",
    "prob_list = list(pred)\n",
    "len(prob_list)\n",
    "pred_list = []\n",
    "\n",
    "# Transform the probs into a binary list\n",
    "for i in range(0, len(prob_list)):\n",
    "    if prob_list[i][0] > 0.5:\n",
    "        pred_list.append(1)\n",
    "    else:\n",
    "        pred_list.append(0)\n",
    "prob_list\n",
    "len(pred_list)"
   ]
  },
  {
   "cell_type": "code",
   "execution_count": 12,
   "id": "bbfd4460",
   "metadata": {},
   "outputs": [
    {
     "data": {
      "text/plain": [
       "44424"
      ]
     },
     "execution_count": 12,
     "metadata": {},
     "output_type": "execute_result"
    }
   ],
   "source": [
    "# Load gene pair names and true labels (if available)\n",
    "true_labels = True\n",
    "df = pd.read_csv(df, sep = '\\t', header = None)\n",
    "\n",
    "if true_labels == True:\n",
    "    df.columns = ['From', 'To', 'True_Label']\n",
    "else:\n",
    "    df.columns = ['From', 'To']\n",
    "    \n",
    "df = df.iloc[start:end, :]\n",
    "df = df[df.True_Label != 2]\n",
    "len(df)"
   ]
  },
  {
   "cell_type": "code",
   "execution_count": 13,
   "id": "dd3a79b8",
   "metadata": {},
   "outputs": [
    {
     "data": {
      "text/plain": [
       "True"
      ]
     },
     "execution_count": 13,
     "metadata": {},
     "output_type": "execute_result"
    }
   ],
   "source": [
    "# Check that dimensions match\n",
    "len(pred_list) == len(prob_list) == df.shape[0]"
   ]
  },
  {
   "cell_type": "code",
   "execution_count": 14,
   "id": "f3eb34f7",
   "metadata": {},
   "outputs": [
    {
     "data": {
      "text/html": [
       "<div>\n",
       "<style scoped>\n",
       "    .dataframe tbody tr th:only-of-type {\n",
       "        vertical-align: middle;\n",
       "    }\n",
       "\n",
       "    .dataframe tbody tr th {\n",
       "        vertical-align: top;\n",
       "    }\n",
       "\n",
       "    .dataframe thead th {\n",
       "        text-align: right;\n",
       "    }\n",
       "</style>\n",
       "<table border=\"1\" class=\"dataframe\">\n",
       "  <thead>\n",
       "    <tr style=\"text-align: right;\">\n",
       "      <th></th>\n",
       "      <th>From</th>\n",
       "      <th>To</th>\n",
       "      <th>True_Label</th>\n",
       "      <th>Pred_Label</th>\n",
       "      <th>Prob_Label</th>\n",
       "    </tr>\n",
       "  </thead>\n",
       "  <tbody>\n",
       "    <tr>\n",
       "      <th>0</th>\n",
       "      <td>AMEX60DD023580</td>\n",
       "      <td>AMEX60DD000048</td>\n",
       "      <td>1</td>\n",
       "      <td>1</td>\n",
       "      <td>0.530701</td>\n",
       "    </tr>\n",
       "    <tr>\n",
       "      <th>1</th>\n",
       "      <td>AMEX60DD000053</td>\n",
       "      <td>AMEX60DD023580</td>\n",
       "      <td>1</td>\n",
       "      <td>1</td>\n",
       "      <td>0.564786</td>\n",
       "    </tr>\n",
       "    <tr>\n",
       "      <th>2</th>\n",
       "      <td>AMEX60DD000075</td>\n",
       "      <td>AMEX60DD023580</td>\n",
       "      <td>1</td>\n",
       "      <td>0</td>\n",
       "      <td>0.149880</td>\n",
       "    </tr>\n",
       "    <tr>\n",
       "      <th>3</th>\n",
       "      <td>AMEX60DD023580</td>\n",
       "      <td>AMEX60DD000084</td>\n",
       "      <td>1</td>\n",
       "      <td>0</td>\n",
       "      <td>0.467220</td>\n",
       "    </tr>\n",
       "    <tr>\n",
       "      <th>4</th>\n",
       "      <td>AMEX60DD023580</td>\n",
       "      <td>AMEX60DD000104</td>\n",
       "      <td>1</td>\n",
       "      <td>0</td>\n",
       "      <td>0.240238</td>\n",
       "    </tr>\n",
       "    <tr>\n",
       "      <th>...</th>\n",
       "      <td>...</td>\n",
       "      <td>...</td>\n",
       "      <td>...</td>\n",
       "      <td>...</td>\n",
       "      <td>...</td>\n",
       "    </tr>\n",
       "    <tr>\n",
       "      <th>44419</th>\n",
       "      <td>AMEX60DD038107</td>\n",
       "      <td>AMEX60DD017439</td>\n",
       "      <td>0</td>\n",
       "      <td>0</td>\n",
       "      <td>0.164242</td>\n",
       "    </tr>\n",
       "    <tr>\n",
       "      <th>44420</th>\n",
       "      <td>AMEX60DD048542</td>\n",
       "      <td>AMEX60DD038107</td>\n",
       "      <td>0</td>\n",
       "      <td>1</td>\n",
       "      <td>0.525761</td>\n",
       "    </tr>\n",
       "    <tr>\n",
       "      <th>44421</th>\n",
       "      <td>AMEX60DD038107</td>\n",
       "      <td>AMEX60DD044515</td>\n",
       "      <td>0</td>\n",
       "      <td>1</td>\n",
       "      <td>0.513050</td>\n",
       "    </tr>\n",
       "    <tr>\n",
       "      <th>44422</th>\n",
       "      <td>AMEX60DD038107</td>\n",
       "      <td>AMEX60DD018219</td>\n",
       "      <td>0</td>\n",
       "      <td>1</td>\n",
       "      <td>0.548665</td>\n",
       "    </tr>\n",
       "    <tr>\n",
       "      <th>44423</th>\n",
       "      <td>AMEX60DD038107</td>\n",
       "      <td>AMEX60DD050982</td>\n",
       "      <td>0</td>\n",
       "      <td>1</td>\n",
       "      <td>0.522037</td>\n",
       "    </tr>\n",
       "  </tbody>\n",
       "</table>\n",
       "<p>44424 rows × 5 columns</p>\n",
       "</div>"
      ],
      "text/plain": [
       "                 From              To  True_Label  Pred_Label  Prob_Label\n",
       "0      AMEX60DD023580  AMEX60DD000048           1           1    0.530701\n",
       "1      AMEX60DD000053  AMEX60DD023580           1           1    0.564786\n",
       "2      AMEX60DD000075  AMEX60DD023580           1           0    0.149880\n",
       "3      AMEX60DD023580  AMEX60DD000084           1           0    0.467220\n",
       "4      AMEX60DD023580  AMEX60DD000104           1           0    0.240238\n",
       "...               ...             ...         ...         ...         ...\n",
       "44419  AMEX60DD038107  AMEX60DD017439           0           0    0.164242\n",
       "44420  AMEX60DD048542  AMEX60DD038107           0           1    0.525761\n",
       "44421  AMEX60DD038107  AMEX60DD044515           0           1    0.513050\n",
       "44422  AMEX60DD038107  AMEX60DD018219           0           1    0.548665\n",
       "44423  AMEX60DD038107  AMEX60DD050982           0           1    0.522037\n",
       "\n",
       "[44424 rows x 5 columns]"
      ]
     },
     "execution_count": 14,
     "metadata": {},
     "output_type": "execute_result"
    }
   ],
   "source": [
    "# Add the predictions to the df\n",
    "df['Pred_Label'] = pred_list\n",
    "df['Prob_Label'] = [item for sublist in prob_list for item in sublist]\n",
    "\n",
    "df"
   ]
  },
  {
   "cell_type": "code",
   "execution_count": 15,
   "id": "e9a36adb",
   "metadata": {},
   "outputs": [],
   "source": [
    "# Save df as a tsv \n",
    "filename = '/data_lab_MT/Ines/Tanaka/BoneRegeneration/CNNC_cluster2_network/20230129_BL8-11_2label_FilteredGenes_model/20230129_BL8-11_2labels_filteredGenes_TestPredictionDF.tsv'\n",
    "df.to_csv(filename, sep = '\\t', index=False)"
   ]
  },
  {
   "cell_type": "markdown",
   "id": "faee7463",
   "metadata": {},
   "source": [
    "## Calculate model evaluation metrics"
   ]
  },
  {
   "cell_type": "code",
   "execution_count": 16,
   "id": "625a112f",
   "metadata": {},
   "outputs": [
    {
     "data": {
      "text/plain": [
       "array([[10992, 11220],\n",
       "       [ 5157, 17055]])"
      ]
     },
     "execution_count": 16,
     "metadata": {},
     "output_type": "execute_result"
    }
   ],
   "source": [
    "# Construct confusion matrix\n",
    "# The numbers are [TN, FP], [FN, TP]\n",
    "confMat = confusion_matrix(df['True_Label'], df['Pred_Label'])\n",
    "confMat"
   ]
  },
  {
   "cell_type": "markdown",
   "id": "4353e097",
   "metadata": {},
   "source": [
    "### Precision\n",
    "\n",
    "We don't mind if the CNNC precision is not great, because we will do further steps for GNRI. It's ok if we have some FPs, as long as we don't make too many FNs."
   ]
  },
  {
   "cell_type": "code",
   "execution_count": 17,
   "id": "7e5904cf",
   "metadata": {},
   "outputs": [
    {
     "name": "stdout",
     "output_type": "stream",
     "text": [
      "Precision:  0.6031830238726791\n"
     ]
    }
   ],
   "source": [
    "# TP / TP + FP\n",
    "Precision = precision_score(df['True_Label'], \n",
    "                            df['Pred_Label'])\n",
    "print('Precision: ', Precision)"
   ]
  },
  {
   "cell_type": "markdown",
   "id": "bb91aa22",
   "metadata": {},
   "source": [
    "### Recall (or TPR or sensitivity)\n",
    "\n",
    "For the CNNC example, we want the recall to be as high as possible because we want to minimize the number of FNs. The reason for this is that, since CNNC will be our first step in GNRI, we don't care so much about having a few FPs that we can later filter, but we want to be sure that we don't miss any real gene interactions."
   ]
  },
  {
   "cell_type": "code",
   "execution_count": 18,
   "id": "a4386603",
   "metadata": {},
   "outputs": [
    {
     "name": "stdout",
     "output_type": "stream",
     "text": [
      "Recall:  0.7678282009724473\n"
     ]
    }
   ],
   "source": [
    "# TP / P = TP / (TP + FN)\n",
    "Recall = recall_score(df['True_Label'], df['Pred_Label'])\n",
    "print('Recall: ', Recall)"
   ]
  },
  {
   "cell_type": "markdown",
   "id": "6620331d",
   "metadata": {},
   "source": [
    "### Specificity (or TNR or selectivity)"
   ]
  },
  {
   "cell_type": "code",
   "execution_count": 19,
   "id": "d29e7af1",
   "metadata": {},
   "outputs": [
    {
     "name": "stdout",
     "output_type": "stream",
     "text": [
      "Selectivity:  0.49486763911399245\n"
     ]
    }
   ],
   "source": [
    "# TN / N\n",
    "Selectivity = confMat[0,0] / (confMat[0,1] + confMat[0,0])\n",
    "print('Selectivity: ', Selectivity)"
   ]
  },
  {
   "cell_type": "markdown",
   "id": "0ed7ddc9",
   "metadata": {},
   "source": [
    "### FNR (miss) \n",
    "\n",
    "Important metric for us because we want to have as little FN as possible. It should be as close to 1 as possible."
   ]
  },
  {
   "cell_type": "code",
   "execution_count": 20,
   "id": "db3372cc",
   "metadata": {},
   "outputs": [
    {
     "name": "stdout",
     "output_type": "stream",
     "text": [
      "FNR: 0.23217179902755267\n"
     ]
    }
   ],
   "source": [
    "# FN / P\n",
    "FNR = confMat[1,0] / (confMat[1,0] + confMat[1,1])\n",
    "print('FNR:', FNR)"
   ]
  },
  {
   "cell_type": "markdown",
   "id": "65790667",
   "metadata": {},
   "source": [
    " ### Accuracy\n",
    " \n",
    " Not the best metric for CNNC performance evaluation because, although the data set is balanced, the model outputs probabilities."
   ]
  },
  {
   "cell_type": "code",
   "execution_count": 21,
   "id": "110aec8f",
   "metadata": {},
   "outputs": [
    {
     "name": "stdout",
     "output_type": "stream",
     "text": [
      "Accuracy:  0.6313479200432199\n"
     ]
    }
   ],
   "source": [
    "#(TP + TN ) / (TP + TN + FP + FN)\n",
    "Acc = accuracy_score(df['True_Label'], df['Pred_Label'])\n",
    "print('Accuracy: ', Acc)"
   ]
  },
  {
   "cell_type": "markdown",
   "id": "249aa1dc",
   "metadata": {},
   "source": [
    "### F1-score\n",
    "\n",
    "Function of precision and recall. Good if we want a balance between these two metrics."
   ]
  },
  {
   "cell_type": "code",
   "execution_count": 22,
   "id": "8e4309c0",
   "metadata": {},
   "outputs": [
    {
     "name": "stdout",
     "output_type": "stream",
     "text": [
      "F1-score:  0.6756194663972904\n"
     ]
    }
   ],
   "source": [
    "#(2 * TP) / (2*TP + FP + FN)\n",
    "f1 = f1_score(df['True_Label'], df['Pred_Label'])\n",
    "print('F1-score: ', f1)"
   ]
  },
  {
   "cell_type": "markdown",
   "id": "86ff25ea",
   "metadata": {},
   "source": [
    "### Log-loss"
   ]
  },
  {
   "cell_type": "code",
   "execution_count": 23,
   "id": "74f5064b",
   "metadata": {},
   "outputs": [
    {
     "name": "stdout",
     "output_type": "stream",
     "text": [
      "Log-loss:  12.7329937084148\n"
     ]
    }
   ],
   "source": [
    "logloss = log_loss(df['True_Label'], df['Pred_Label'])\n",
    "print('Log-loss: ', logloss)"
   ]
  },
  {
   "cell_type": "markdown",
   "id": "7d1e5a4c",
   "metadata": {},
   "source": [
    "### AUROC"
   ]
  },
  {
   "cell_type": "code",
   "execution_count": 24,
   "id": "983cd0e7",
   "metadata": {},
   "outputs": [
    {
     "name": "stdout",
     "output_type": "stream",
     "text": [
      "AUROC:  0.6703395160234\n"
     ]
    }
   ],
   "source": [
    "auroc = roc_auc_score(df['True_Label'], df['Prob_Label'])\n",
    "print('AUROC: ', auroc)"
   ]
  },
  {
   "cell_type": "code",
   "execution_count": 25,
   "id": "3207276c",
   "metadata": {},
   "outputs": [],
   "source": [
    "# Plot?"
   ]
  },
  {
   "cell_type": "markdown",
   "id": "1187866e",
   "metadata": {},
   "source": [
    "### AUPCR"
   ]
  },
  {
   "cell_type": "code",
   "execution_count": 26,
   "id": "650141a0",
   "metadata": {},
   "outputs": [
    {
     "name": "stdout",
     "output_type": "stream",
     "text": [
      "AUPRC:  0.6330775820093448\n"
     ]
    }
   ],
   "source": [
    "auprc = average_precision_score(df['True_Label'], df['Prob_Label'])\n",
    "print('AUPRC: ', auprc)"
   ]
  },
  {
   "cell_type": "markdown",
   "id": "d9b6007a",
   "metadata": {},
   "source": [
    "## Distribution of the predicted probabilities"
   ]
  },
  {
   "cell_type": "code",
   "execution_count": 27,
   "id": "877315ab",
   "metadata": {},
   "outputs": [
    {
     "data": {
      "image/png": "[encoded data removed]",
      "text/plain": [
       "<Figure size 432x288 with 1 Axes>"
      ]
     },
     "metadata": {
      "needs_background": "light"
     },
     "output_type": "display_data"
    }
   ],
   "source": [
    "plt.hist(df.loc[df['True_Label'] == 1]['Prob_Label'], density = True, bins = 50, alpha=0.5, label=\"Interacting\",\n",
    "        color=\"#56b4e9\")\n",
    "plt.hist(df.loc[df['True_Label'] == 0]['Prob_Label'], density = True, bins = 50, alpha=0.5, \n",
    "         label=\"Not interacting\", color = \"#e69f00\")\n",
    "plt.ylim([0, 10])\n",
    "plt.axvline(0.5, color='grey', linestyle='dashed', linewidth=1.5)\n",
    "plt.xlabel(\"Estimated probability of interaction\", size=14)\n",
    "plt.ylabel(\"Density\", size=14)\n",
    "plt.title('BL8-11 2 labels', size = 14, fontweight=\"bold\")\n",
    "plt.legend(loc='upper left', prop={'size': 10})\n",
    "plt.savefig('/data_lab_MT/Ines/Tanaka/BoneRegeneration/CNNC_cluster2_network/20230129_BL8-11_2label_FilteredGenes_model/20230129_BL8-11_2labels_filteredGenes_DistributionPredictedProbabilities.png')"
   ]
  }
 ],
 "metadata": {
  "kernelspec": {
   "display_name": "Python 3",
   "language": "python",
   "name": "python3"
  },
  "language_info": {
   "codemirror_mode": {
    "name": "ipython",
    "version": 3
   },
   "file_extension": ".py",
   "mimetype": "text/x-python",
   "name": "python",
   "nbconvert_exporter": "python",
   "pygments_lexer": "ipython3",
   "version": "3.6.8"
  }
 },
 "nbformat": 4,
 "nbformat_minor": 5
}
